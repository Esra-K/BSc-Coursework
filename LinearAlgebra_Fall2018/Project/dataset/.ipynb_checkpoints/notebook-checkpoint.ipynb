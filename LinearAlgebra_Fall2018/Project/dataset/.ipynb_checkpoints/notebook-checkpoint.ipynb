{
 "cells": [
  {
   "cell_type": "markdown",
   "metadata": {
    "id": "GrvFpiJO0IMG"
   },
   "source": [
    "<div style=\"direction:rtl;line-height:300%;\">\n",
    "\t<font face=\"XB Zar\" size=5>\n",
    "\t\t<div align=center>\n",
    "\t\t\t<font face=\"IranNastaliq\" size=30>\n",
    "\t\t\t\t<p></p>\n",
    "\t\t\t\t<p></p>\n",
    "به نام خدا\n",
    "\t\t\t\t<p></p>\n",
    "\t\t\t</font>\n",
    "\t\t\t<font color=#FF7500>\n",
    "دانشگاه صنعتی شریف - دانشکده مهندسی کامپیوتر\n",
    "            </font>\n",
    "\t\t\t<p></p>\n",
    "\t\t\t<font color=blue>\n",
    "جبر خطی - دکتر حسین قربان\n",
    "            </font>\n",
    "\t\t\t<br />\n",
    "\t\t\t<br />\n",
    "نیم سال دوم ۱۴۰۰-۱۳۹۹\n",
    "\t\t</div>\n",
    "\t\t<hr/>\n",
    "\t\t<div align=center>\n",
    "\t\t    <font color=red>\n",
    "\t\t\t    <br />\n",
    "پروژه \n",
    "            \t<br/>\n",
    "\t\t\t</font>\n",
    "طراحان: علی بالاپور، فراز قهرمانی، پویا اسماعیلی\t\t\t<br/><br/>\n",
    "موعد تحویل: 20 تیر\n",
    "                <br/>\n",
    "                هم‌فکری مانعی ندارد ولی از شما خواسته می‌شود تمام پیاده‌سازی را به تنهایی و بدون مشاهده کد دیگران انجام دهید\n",
    "                <br/><br/>\n",
    "                <font color=red>\n",
    "                لطفا در صورت همفکری با سایر دانشجویان، نام و شماره دانشجویی آنها را وارد کنید\n",
    "     </font>\n",
    "                <br/>\n",
    "        </style>\n",
    "\t</font>\n",
    "</div>"
   ]
  },
  {
   "cell_type": "markdown",
   "metadata": {
    "id": "LJwXSKvjby46"
   },
   "source": [
    "<div dir=\"rtl\">\n",
    "<font face=\"Vazir\" size=4>\n",
    "<h1>مقدمه</h1>\n",
    "</font>\n",
    "</div>"
   ]
  },
  {
   "cell_type": "markdown",
   "metadata": {
    "id": "_J3eKSZgby5J"
   },
   "source": [
    "<div dir=\"rtl\" align= \"justify\">\n",
    "<font face=\"Vazir\" size=4>\n",
    "یکی از مهم‌ترین و پایه‌ای‌ترین الگوریتم‌های یادگیری ماشین در حوزه دسته‌بندی (Classification)، الگوریتم‌های طبقه بند دودویی و یا binary classifciation می‌باشد. در این پروژه می‌خواهیم یکی از این نوع الگوریتم‌ها (که بر پایه مفاهیم جبر خطی می‌باشد) و نحوه پیاده‌سازی و مشکلات و چالش‌های آن را بررسی کنیم. پس‌از آن برای حل یکی از مشکلات این الگوریتم، روشی را پیشنهاد می‌دهیم که نه‌تنها در این الگوریتم، بلکه در بسیاری از الگوریتم‌های دیگر یادگیری ماشین کاربرد دارد و درنهایت پیاده‌سازی این الگوریتم با ترفند گفته‌شده، مورد بررسی قرار می‌گیرد.\n",
    "    </font>\n",
    "</div>"
   ]
  },
  {
   "cell_type": "markdown",
   "metadata": {
    "id": "AMCRtRtTlcmv"
   },
   "source": [
    "<div dir=\"rtl\">\n",
    "<font face=\"Vazir\" size=4>\n",
    "<h2>دسته‌بندی (Classification)</h2>\n",
    "</font>\n",
    "</div>"
   ]
  },
  {
   "cell_type": "markdown",
   "metadata": {
    "id": "ZhUw8spElyqB"
   },
   "source": [
    "<div dir=\"rtl\" align= \"justify\">\n",
    "<font face=\"Vazir\" size=4>\n",
    "فرض کنید یک مجموعه داده در اختیاردارید که هر داده دارای برچسب مشخصی می‌باشد. برای مثال فرضاً مشخصات 1000 نفر در اختیار شما قرار داده‌شده است و به ازای هر نفر مشخص‌شده است که آیا آن فرد بیماری دیابت دارد و یا خیر. یا به‌عنوان مثال دیگر، فرض کنید که چندین تصویر(در اردر چند میلیون) از حیوانات مختلف در اختیار شما قرار داده‌شده است و به ازای هر تصویر، مشخص‌شده است که نام حیوان موجود در تصویر، چه چیزی می‌باشد. فرض کنید چنین داده‌هایی با برچسب مشخص در اختیار رایانه قرارگرفته است. با استفاده از الگوریتم‌های دسته‌بندی می‌توان این داده‌ها (که به آن‌ها داده آموزش یا tarining data گفته می‌شود) را به‌اصطلاح به رایانه آموزش داد و پس‌ازآن رایانه می‌تواند با دریافت داده جدید، با دقت مناسب (با توجه به الگوریتم مورداستفاده)، به پیش‌بینی برچسب داده جدید بپردازد. <br>\n",
    "مسائل دسته‌بندی یا classification جزو الگوریتم‌های یادگیری ماشین و در زیرشاخه\n",
    "    <a href='https://en.wikipedia.org/wiki/Supervised_learning'>\n",
    "    supervised learning</a>\n",
    "    قرار دارند. برای مطالعه بیشتر، می‌توانید لینک‌های زیر را مطالعه نمایید.  <br>\n",
    "    <div dir=\"ltr\" align= \"justify\">\n",
    "    <a href='https://www.edureka.co/blog/classification-in-machine-learning'> \n",
    "    Classification In Machine Learning \n",
    "    </a> <br>\n",
    "    <a href='https://towardsdatascience.com/machine-learning-classifiers-a5cc4e1b0623'>\n",
    "        Machine Learning Classifiers\n",
    "    </a>\n",
    "    </div>\n",
    "    </font>\n",
    "</div>"
   ]
  },
  {
   "cell_type": "markdown",
   "metadata": {
    "id": "VcaSPCSZby5K"
   },
   "source": [
    "<div dir=\"rtl\">\n",
    "<font face=\"Vazir\" size=4>\n",
    "<h1>بخش اول </h1>\n",
    "</font>\n",
    "</div>"
   ]
  },
  {
   "cell_type": "markdown",
   "metadata": {
    "id": "N1o63ST1by5M"
   },
   "source": [
    "<div dir=\"rtl\">\n",
    "<font face=\"Vazir\" size=4>\n",
    "<h2>مقدمه بخش اول </h2>\n",
    "</font>\n",
    "</div>"
   ]
  },
  {
   "cell_type": "markdown",
   "metadata": {
    "id": "36MEir2Uby5N"
   },
   "source": [
    "<div dir=\"rtl\" align= \"justify\">\n",
    "<font face=\"Vazir\" size=4>\n",
    "در ابتدا به مفهوم خطی جدایی‌پذیری داده‌ها می‌پردازیم. پس‌ازآن با استفاده از کتابخانه‌های پایتون، دیتاست iris را به حالت خطی جدا پذیر تبدیل می‌کنیم و سپس به‌صورت گام‌به‌گام، عملکرد الگوریتم توضیح داده می‌شود و شما باید آن را پیاده‌سازی کنید. در قسمت آخر نیز مشکلات الگوریتم بررسی می‌گردد.\n",
    "</div>"
   ]
  },
  {
   "cell_type": "markdown",
   "metadata": {
    "id": "s3gRSP8Kby5O"
   },
   "source": [
    "<div dir=\"rtl\">\n",
    "<font face=\"Vazir\" size=4>\n",
    "<h2>خطی‌جدایی‌پذیری داده‌ها</h2>\n",
    "</font>\n",
    "</div>"
   ]
  },
  {
   "cell_type": "markdown",
   "metadata": {
    "id": "IRBqCbfcby5R"
   },
   "source": [
    "<div dir=\"rtl\" align= \"justify\">\n",
    "<font face=\"Vazir\" size=4>\n",
    "دیتاستی را فرض کنید که داده‌های آن به شکل\n",
    "$D = {(x_i, y_i)}$\n",
    "می‌باشد که\n",
    "$x$\n",
    "در آن\n",
    "$d$\n",
    "بعدی\n",
    "و \n",
    "$y$\n",
    "نیز مقادیر \n",
    "$1$\n",
    "و یا \n",
    "$-1$\n",
    "را دارد. یعنی همه‌ی داده‌ها برچسب\n",
    "$y$\n",
    "با مقدار \n",
    "$1$\n",
    "و یا\n",
    "$-1$\n",
    "دارند. فرض کنید که این داده از یکدیگر خطی‌جدا‌پذیر می‌باشند. یعنی می‌توان با یک ابرصفحه(<a href='https://en.wikipedia.org/wiki/Hyperplane#:~:text=In%20geometry%2C%20a%20hyperplane%20is,are%20the%201%2Ddimensional%20lines'>hyperplane</a>)، کل فضا رو به دو قسمت تقسیم کرد و یک قسمت، داده‌هایی با برچسب \n",
    "$1$\n",
    "و قسمت دیگر، داده‌هایی با برچسب\n",
    "$-1$\n",
    "قرار بگیرند. برای مثال، درصورتی‌که داده‌های\n",
    "$x$مان دو بعدی باشند، می‌توان آن‌ها را در مختصات دو بعدی نشان داد و خطی جدا پذیر بودن آن‌ها نیز به معنی وجود خطی می‌باشد که با رسم آن، داده‌های با برچسب \n",
    "$1$\n",
    "و \n",
    "$-1$\n",
    "از یکدیگر جدا می‌شوند. برای مثال:\n",
    "</font>\n",
    "</div>"
   ]
  },
  {
   "cell_type": "markdown",
   "metadata": {
    "id": "gLW2CliGby5U"
   },
   "source": [
    "<p align=\"center\">\n",
    "   <img src=\"figures/Linear_Seprable_2D.png\"  width=\"300\"/>\n",
    "</p>"
   ]
  },
  {
   "cell_type": "markdown",
   "metadata": {
    "id": "rZ6viTl3by5V"
   },
   "source": [
    "<div dir=\"rtl\" align= \"justify\">\n",
    "<font face=\"Vazir\" size=4>\n",
    "در فضای سه بعدی نیز می‌توان چنین چیزی را بیان کرد. در فضای سه بعدی، ابر صفحه جداکننده، یک صفحه خواهد بود. برای مثال:\n",
    "    </font>\n",
    "</div>"
   ]
  },
  {
   "cell_type": "markdown",
   "metadata": {
    "id": "o0OAHM83by5W"
   },
   "source": [
    "<p align=\"center\">\n",
    "   <img src=\"figures/Linear_Seprable_3D.png\"/>\n",
    "</p>"
   ]
  },
  {
   "cell_type": "markdown",
   "metadata": {
    "id": "Ief0hbRNby5W"
   },
   "source": [
    " <div dir=\"rtl\">\n",
    "<font face=\"Vazir\" size=4>\n",
    "<h2>توضیح و آماده‌سازی دیتاست \n",
    "<a href='https://archive.ics.uci.edu/ml/datasets/iris'>Iris</a>\n",
    "</h2>\n",
    "</font>\n",
    "</div>"
   ]
  },
  {
   "cell_type": "markdown",
   "metadata": {
    "id": "OtODWy2mby5X"
   },
   "source": [
    "<div dir=\"rtl\" align= \"justify\">\n",
    "<font face=\"Vazir\" size=4>\n",
    "دیتاستی که در این قسمت در نظر گرفته‌شده، دیتاست iris می‌باشد. این دیتاست شامل داده‌های سه نوع گل زنبق می‌باشد که بر اساس  ویژگی، دسته‌بندی شده‌اند. این دیتاست به‌طور کلی خطی جداناپذیر می‌باشد. اما در این قسمت، برای آموزش می‌خواهیم که این دیتاست را با استفاده از دو ستون Sepal Width و Sepal Length و حذف یک دسته به یک دیتاست با داده‌های خطی جدا پذیر تبدیل کنید و پس‌ازآن الگوریتم پیشنهادی خود را بر روی آن اعمال نمایید.\n",
    "</font>\n",
    "</div>"
   ]
  },
  {
   "cell_type": "markdown",
   "metadata": {
    "id": "Kbh_iSV8by5Y"
   },
   "source": [
    "<div dir=\"rtl\">\n",
    "<font face=\"Vazir\" size=4>\n",
    "<h3>آماده‌سازی دیتاست </h3>\n",
    "</font>\n",
    "</div>"
   ]
  },
  {
   "cell_type": "code",
   "execution_count": null,
   "metadata": {
    "id": "MkRLeESVby5Y"
   },
   "outputs": [],
   "source": [
    "import pandas as pd\n",
    "import matplotlib.pyplot as plt\n",
    "import numpy as np\n",
    "from sklearn.model_selection import train_test_split\n",
    "\n",
    "\n",
    "\n",
    "iris_df = pd.read_csv('dataset/Iris.csv')"
   ]
  },
  {
   "cell_type": "markdown",
   "metadata": {
    "id": "cUSlKpD1by5a"
   },
   "source": [
    "<div dir=\"rtl\" align= \"justify\">\n",
    "<font face=\"Vazir\" size=4>\n",
    "با استفاده از کتابخانه pandas، ابتدا دو ستون PetalWidthCm و PetalLengthCm را حذف می‌کنیم و سپس نمودار  scatter ای بر اساس دو ستون SepalLengthCm و SepalWidthCm و با دخالت دادن ستون Species رسم می‌کنیم. چه نتیجه‌ای از نمودار می‌گیرید؟\n",
    "</font>\n",
    "</div>"
   ]
  },
  {
   "cell_type": "code",
   "execution_count": null,
   "metadata": {
    "id": "9uaUHVraby5a"
   },
   "outputs": [],
   "source": [
    "iris_df = iris_df.drop(columns=['Id', 'PetalLengthCm', 'PetalWidthCm']).rename(columns={'SepalLengthCm':'Sepal Length', 'SepalWidthCm':'Sepal Width'})"
   ]
  },
  {
   "cell_type": "code",
   "execution_count": null,
   "metadata": {
    "id": "ICm8Wn8mby5a",
    "outputId": "cd4f117d-b2f0-4f28-9bd6-2438868ceb14"
   },
   "outputs": [
    {
     "data": {
      "image/png": "[encoded data removed]",
      "text/plain": [
       "<Figure size 432x288 with 1 Axes>"
      ]
     },
     "metadata": {
      "needs_background": "light",
      "tags": []
     },
     "output_type": "display_data"
    }
   ],
   "source": [
    "colors=iris_df['Species'].map({'Iris-setosa':'red', 'Iris-versicolor':'blue','Iris-virginica':'green'})\n",
    "plt.scatter(iris_df['Sepal Length'], iris_df['Sepal Width'], color=colors)\n",
    "plt.show()"
   ]
  },
  {
   "cell_type": "markdown",
   "metadata": {
    "id": "R-E3cRA5by5d"
   },
   "source": [
    "<div dir=\"rtl\" align= \"justify\" >\n",
    "<font face=\"Vazir\" size=4 color=\"blue\">\n",
    "    پاسخ خود را در این قسمت بنویسید.\n",
    "</font>\n",
    "</div>"
   ]
  },
  {
   "cell_type": "markdown",
   "metadata": {
    "id": "KVvpjuLyby5e"
   },
   "source": [
    "<div dir=\"rtl\" align= \"justify\">\n",
    "<font face=\"Vazir\" size=4>\n",
    "اکنون داده‌هایی که ستون Species آن‌ها از نوع Iris-virginica می‌باشد را از دیتاست حذف می‌کنیم و نمودار قسمت قبلی را دوباره رسم می‌کنیم. چه نتیجه‌ای می‌گیرید؟\n",
    "</font>\n",
    "</div>"
   ]
  },
  {
   "cell_type": "code",
   "execution_count": null,
   "metadata": {
    "id": "Y62skaCaby5e"
   },
   "outputs": [],
   "source": [
    "iris_df = iris_df[iris_df['Species'] != 'Iris-virginica']\n",
    "iris_df['Species'] = iris_df['Species'].map({'Iris-setosa':1, 'Iris-versicolor':-1})"
   ]
  },
  {
   "cell_type": "code",
   "execution_count": null,
   "metadata": {
    "id": "xPGHdfMnby5f",
    "outputId": "808f257f-c717-4124-9cb5-4cffaf3b35ff"
   },
   "outputs": [
    {
     "data": {
      "image/png": "[encoded data removed]",
      "text/plain": [
       "<Figure size 432x288 with 1 Axes>"
      ]
     },
     "metadata": {
      "needs_background": "light",
      "tags": []
     },
     "output_type": "display_data"
    }
   ],
   "source": [
    "colors=iris_df['Species'].map({1:'red',-1:'blue'})\n",
    "plt.scatter(iris_df['Sepal Length'], iris_df['Sepal Width'], color=colors)\n",
    "plt.show()"
   ]
  },
  {
   "cell_type": "markdown",
   "metadata": {
    "id": "uT81_Cf4by5f"
   },
   "source": [
    "<div dir=\"rtl\" align= \"justify\" >\n",
    "<font face=\"Vazir\" size=4 color=\"blue\">\n",
    "    پاسخ خود را در این قسمت بنویسید.\n",
    "</font>\n",
    "</div>"
   ]
  },
  {
   "cell_type": "markdown",
   "metadata": {
    "id": "-jxpRyXGby5g"
   },
   "source": [
    "<div dir=\"rtl\">\n",
    "<font face=\"Vazir\" size=4>\n",
    "<h3>تقسیم داده به قسمت‌های test  و train</h3>\n",
    "</font>\n",
    "</div>"
   ]
  },
  {
   "cell_type": "markdown",
   "metadata": {
    "id": "sQVxNl7Bby5g"
   },
   "source": [
    "<div dir=\"rtl\" align= \"justify\">\n",
    "<font face=\"Vazir\" size=4>\n",
    "برای آموزش و سنجش الگوریتم‌های یادگیری ماشین، داده موجود را معمولاً به دو قسمت test و  train تقسیم می‌نمایند و با داده train، که عمدتاً قسمت بزرگتری می‌باشد، به آموزش الگوریتم و با استفاده از داده test به سنجش الگوریتم می‌پردازند. برای این کار ابتدا ویژگی‌های داده و برچسب داده را از یکدیگر جدا کرده و سپس آن‌ها را به قسمت‌های X_train, X_test, Y_train, Y_test تقسیم می‌نمایند. <br>\n",
    "برای آشنایی بیشتر پیشنهاد می‌شود که لینک‌های زیر را مطالعه نمایید: <br>\n",
    "<div dir=\"ltr\">\n",
    "<a href='https://www.w3schools.com/python/python_ml_train_test.asp'>Machine Learning - Train/Test\n",
    "</a> <br>\n",
    "<a href='https://en.wikipedia.org/wiki/Training,_validation,_and_test_sets'>Training, validation, and test sets\n",
    "</a>\n",
    "</div>\n",
    "</font>\n",
    "</div>"
   ]
  },
  {
   "cell_type": "code",
   "execution_count": null,
   "metadata": {
    "id": "aPMfW_voby5g"
   },
   "outputs": [],
   "source": [
    "X_train, X_test, Y_train, Y_test = train_test_split(iris_df.drop(columns=['Species']), iris_df['Species'], random_state=22)\n",
    "X_train = np.matrix(X_train.to_numpy())\n",
    "X_test = np.matrix(X_test.to_numpy())\n",
    "Y_train = np.matrix(Y_train.to_numpy()).T\n",
    "Y_test = np.matrix(Y_test.to_numpy()).T"
   ]
  },
  {
   "cell_type": "markdown",
   "metadata": {
    "id": "3sgvyQReby5h"
   },
   "source": [
    "\n",
    "<div dir=\"rtl\">\n",
    "<font face=\"Vazir\" size=4>\n",
    "<h2> پیاده‌سازی الگوریتم </h2>\n",
    "</font>\n",
    "</div>"
   ]
  },
  {
   "cell_type": "markdown",
   "metadata": {
    "id": "xKMmw9QKby5h"
   },
   "source": [
    "<div dir=\"rtl\">\n",
    "<font face=\"Vazir\" size=4>\n",
    "<h3>هدف الگوریتم</h3>\n",
    "</font>\n",
    "</div>"
   ]
  },
  {
   "cell_type": "markdown",
   "metadata": {
    "id": "hbfbbzTnby5i"
   },
   "source": [
    "<div dir=\"rtl\" align= \"justify\">\n",
    "<font face=\"Vazir\" size=4>\n",
    "فرض کنید n داده دارید که هرکدام از این داده‌ها، دارای d ویژگی (و یا feature و یا بعد) می‌باشند. این داده‌ها در یک ماتریس n*d به نام X ذخیره شده‌اند. به ازای هر یک از این n داده، یک مقدار برچسب (یا label) به آن متناظر شده است که مقدار آن 1 و یا 1- می‌باشد. پس می‌توان این برچسب‌ها را در یک بردار n*1 بعدی به نام Y ذخیره کرد. فرض کنید که این داده‌ها، بر اساس برچسبشان (یعنی Y) از یکدیگر خطی جدایی‌پذیر می‌باشند. در این بخش شما باید الگوریتمی برای پیدا کردن ابرصفحه‌ای که این دو نوع داده را از هم جدا می‌کند پیدا کنید. به‌طور دقیق‌تر هدف الگوریتم پیدا کردن یک بردار d*1 بعدی به نام w می‌باشد که این بردار نمایانگر ابرصفحه جداکننده داده‌ها می‌باشد (در واقع همان بردار نرمال این ابرصفحه است). در این قسمت از شما می‌خواهیم که به‌صورت گام‌به‌گام راه‌حلی برای این کار ارائه دهید.\n",
    "   <br>\n",
    "    لازم به یادآوری است که اگر\n",
    "     $V$\n",
    "     فضای برداری با بعد \n",
    "     $n$\n",
    "       است،   \n",
    "         آنگاه هر زیرفضای با بعد $n-1$ یک ابرفضا است که با استفاده از  \n",
    "    <a href='https://en.wikipedia.org/wiki/Gram%E2%80%93Schmidt_process'> فرآیند گرام اشمیت</a>\n",
    "    می توان با یک بردار متعامد آن را به طور یکتا مشخص کرد.\n",
    "</font>\n",
    "</div>"
   ]
  },
  {
   "cell_type": "markdown",
   "metadata": {
    "id": "u8CuaNIwby5i"
   },
   "source": [
    "<div dir=\"rtl\">\n",
    "<font face=\"Vazir\" size=4>\n",
    "<h3> گام اول *</h3>\n",
    "</font>\n",
    "</div>"
   ]
  },
  {
   "cell_type": "markdown",
   "metadata": {
    "id": "oRQQ761nby5i"
   },
   "source": [
    "<div dir=\"rtl\" align= \"justify\">\n",
    "<font face=\"Vazir\" size=4>\n",
    "\tایده‌های خود را در مورد نحوه یافتن ابرصفحه جداکننده در این قسمت بنویسید.\n",
    " </font>\n",
    "</div>"
   ]
  },
  {
   "cell_type": "markdown",
   "metadata": {
    "id": "760-yoYuby5j"
   },
   "source": [
    "<div dir=\"rtl\" align= \"justify\" >\n",
    "<font face=\"Vazir\" size=4 color=\"blue\">\n",
    "    پاسخ خود را در این قسمت بنویسید.\n",
    "</font>\n",
    "</div>"
   ]
  },
  {
   "cell_type": "markdown",
   "metadata": {
    "id": "mDsbrEVeby5k"
   },
   "source": [
    "<div dir=\"rtl\">\n",
    "<font face=\"Vazir\" size=4>\n",
    "<h3>گام دوم *</h3>\n",
    "</font>\n",
    "</div>"
   ]
  },
  {
   "cell_type": "markdown",
   "metadata": {
    "id": "XxwUvL5lby5k"
   },
   "source": [
    "<div dir=\"rtl\" align= \"justify\">\n",
    "<font face=\"Vazir\" size=4>\n",
    " ابعاد داده را بر اساس X_train به‌دست آورید و بردار w ای را با مقادیر اولیه 0 تشکیل دهید.\n",
    "</font>\n",
    "</div>"
   ]
  },
  {
   "cell_type": "code",
   "execution_count": null,
   "metadata": {
    "id": "5uoHz7r8by5l"
   },
   "outputs": [],
   "source": [
    "# todo"
   ]
  },
  {
   "cell_type": "markdown",
   "metadata": {
    "id": "UgA-vYJ8by5l"
   },
   "source": [
    "<div dir=\"rtl\">\n",
    "<font face=\"Vazir\" size=4>\n",
    "<h3>گام سوم *</h3>\n",
    "</font>\n",
    "</div>"
   ]
  },
  {
   "cell_type": "markdown",
   "metadata": {
    "id": "sAm1twBcby5l"
   },
   "source": [
    "<div dir=\"rtl\" align= \"justify\">\n",
    "<font face=\"Vazir\" size=4>\n",
    "اکنون باید به ازای تمام داده‌ها مشخص کنید که آیا بردار w، به خوبی داده‌ها را از یکدیگر جدا می‌کند یا خیر و درصورتی‌که این کار به‌درستی انجام نشود، مقادیر موجود در بردار w به‌روزرسانی شود. <br>\n",
    "    توجه کنید که برچسب داده‌ها مقادیر 1 و یا 1- می‌باشند. یعنی می‌توان داده‌ها را به دو دسته + و - تقسیم کرد. همچنین در این قسمت باید از داده‌های موجود در X_train برای آموزش استفاده نمایید. برای پیاده‌سازی این قسمت از الگوریتم، باید دو تابع method_1_predict و method_1_train را تکمیل نمایید.  <br>\n",
    "<li>راهنمایی: </li>\n",
    "همان‌گونه که در قسمت‌های قبل ذکر شده‌است، بردار\n",
    "w،\n",
    " همان بردار نرمال ابرصفحهٔ جداکننده است. به ازای هر داده، یک برچسب داریم که مقدار 1 و یا -1 دارد. کاری که لازم است شما انجام دهید این است که مشخص کنید که آیا موقعیت داده نسبت به ابرصفحه با بردار نرمال w فعلی، متناسب با برچسب y آن داده هست یا خیر. در صورت متناسب بودن، داده بعدی بررسی شود و در غیر این صورت، ضرایب w به‌گونه‌ای به‌روزرسانی شود که درصورتی‌که همان داده به مدل داده شد، این پیش‌بینی درست انجام شود.\n",
    "</font>\n",
    "</div>"
   ]
  },
  {
   "cell_type": "code",
   "execution_count": null,
   "metadata": {
    "id": "s-YDgeRUby5m"
   },
   "outputs": [],
   "source": [
    "def method_1_predict(w, X):  # returns 1 or -1 based on X and w\n",
    "    # todo\n",
    "    pass\n",
    "\n",
    "def method_1_train(w0, X_train, Y_train):   # train model with X_train, Y_train and w0 and return w\n",
    "    # todo\n",
    "    pass"
   ]
  },
  {
   "cell_type": "code",
   "execution_count": null,
   "metadata": {
    "id": "ERaidoENby5m"
   },
   "outputs": [],
   "source": [
    "w = method_1_train(w0, X_train, Y_train)"
   ]
  },
  {
   "cell_type": "markdown",
   "metadata": {
    "id": "Xx3JZJf-by5n"
   },
   "source": [
    "<div dir=\"rtl\">\n",
    "<font face=\"Vazir\" size=4>\n",
    "<h3>گام چهارم *</h3>\n",
    "</font>\n",
    "</div>"
   ]
  },
  {
   "cell_type": "markdown",
   "metadata": {
    "id": "gRQ_Lxalby5o"
   },
   "source": [
    "<div dir=\"rtl\" align=\"justify\">\n",
    "<font face=\"Vazir\" size=4>\n",
    "در این قسمت می‌خواهیم به سنجش بردار w بپردازیم. اکنون در مرحله قبل شما، بردار w ای را به‌دست آوردید. اکنون با فراخوانی تابع method_1_accuracy، هم برای داده‌های تست و هم برای داده‌های آموزش دقت مدل را به‌دست آورید. نتایج به‌دست آمده را به‌طور خلاصه، مقایسه و تحلیل کنید.\n",
    "</font>\n",
    "</div>"
   ]
  },
  {
   "cell_type": "code",
   "execution_count": null,
   "metadata": {
    "id": "pK_NViYJby5o"
   },
   "outputs": [],
   "source": [
    "def method_1_accuracy(X, Y, w):   # X is n*d matrix, Y is n*1 vector, w is d*1 vector\n",
    "    n, p = np.shape(X)\n",
    "    number_of_mistakes = 0\n",
    "    for i in range(n):\n",
    "        yhat = method_1_predict(w, X[i,:])\n",
    "        result = yhat * Y[i]\n",
    "        if result < 0 :\n",
    "            number_of_mistakes += 1\n",
    "    accuracy = 1 - number_of_mistakes/n\n",
    "    return accuracy                   "
   ]
  },
  {
   "cell_type": "code",
   "execution_count": null,
   "metadata": {
    "id": "yhWaCbN8by5o"
   },
   "outputs": [],
   "source": [
    "### calculate accuracy for train and test data and print it\n",
    "# todo"
   ]
  },
  {
   "cell_type": "markdown",
   "metadata": {
    "id": "fnkjEUqeby5p"
   },
   "source": [
    "<div dir=\"rtl\" align= \"justify\" >\n",
    "<font face=\"Vazir\" size=4 color=\"blue\">\n",
    "    پاسخ خود را در این قسمت بنویسید.\n",
    "</font>\n",
    "</div>"
   ]
  },
  {
   "cell_type": "markdown",
   "metadata": {
    "id": "ivJLnfAnby5p"
   },
   "source": [
    "<div dir=\"rtl\">\n",
    "<font face=\"Vazir\" size=4>\n",
    "<h3>گام پنجم *</h3>\n",
    "</font>\n",
    "</div>"
   ]
  },
  {
   "cell_type": "markdown",
   "metadata": {
    "id": "lPmZqjEQby5q"
   },
   "source": [
    "<div dir=\"rtl\" align=\"justify\">\n",
    "<font face=\"Vazir\" size=4>\n",
    "به نظر شما درصورتی‌که عملیات مرحله قبل را چندین بار بر روی کل داده‌ها تکرار کنیم، آیا تاثیری بر روی دقت مدل بر روی‌داده آموزش و تست خواهد داشت یا خیر؟\n",
    "</font>\n",
    "</div>"
   ]
  },
  {
   "cell_type": "code",
   "execution_count": null,
   "metadata": {
    "id": "tv5_IcTgby5q"
   },
   "outputs": [],
   "source": [
    "# todo"
   ]
  },
  {
   "cell_type": "markdown",
   "metadata": {
    "id": "dOUjKWJPby5r"
   },
   "source": [
    "<div dir=\"rtl\" align= \"justify\" >\n",
    "<font face=\"Vazir\" size=4 color=\"blue\">\n",
    "    پاسخ خود را در این قسمت بنویسید.\n",
    "</font>\n",
    "</div>"
   ]
  },
  {
   "cell_type": "markdown",
   "metadata": {
    "id": "RYogtSvVby5r"
   },
   "source": [
    "<div dir=\"rtl\">\n",
    "<font face=\"Vazir\" size=4>\n",
    "<h2>قضیه [اختیاری]</h2>\n",
    "</font>\n",
    "</div>"
   ]
  },
  {
   "cell_type": "markdown",
   "metadata": {
    "id": "k4QFUYurby5s"
   },
   "source": [
    "<div dir=\"rtl\" align=\"justify\">\n",
    "<font face=\"Vazir\" size=4>\n",
    "به نظر شما، آیا می‌توان اثبات کرد که دقت الگوریتم ارائه‌شده، در صورتی که داده‌ها خطی‌جدایی‌پذیر باشند، پس از یادگیری، برابر 1 خواهد شد؟ در صورتی که جوابتان بله است، پس از چند مرحله این هدف محقق می‌شود؟ \n",
    "</font>\n",
    "</div>"
   ]
  },
  {
   "cell_type": "markdown",
   "metadata": {
    "id": "exH2RCjUby5t"
   },
   "source": [
    "<div dir=\"rtl\" align= \"justify\" >\n",
    "<font face=\"Vazir\" size=4 color=\"blue\">\n",
    "    پاسخ خود را در این قسمت بنویسید.\n",
    "</font>\n",
    "</div>"
   ]
  },
  {
   "cell_type": "markdown",
   "metadata": {
    "id": "e_9Z3dteby5t"
   },
   "source": [
    "<div dir=\"rtl\">\n",
    "<font face=\"Vazir\" size=4>\n",
    "<h2>شرح مشکلات الگوریتم *</h2>\n",
    "</font>\n",
    "</div>"
   ]
  },
  {
   "cell_type": "markdown",
   "metadata": {
    "id": "IYw-YQ4Gby5t"
   },
   "source": [
    "<div dir=\"rtl\" align=\"justify\">\n",
    "<font face=\"Vazir\" size=4>\n",
    "به نظر شما، الگوریتم معرفی شده، چه مشکلاتی می تواند داشته باشد؟ \n",
    "</font>\n",
    "</div>"
   ]
  },
  {
   "cell_type": "markdown",
   "metadata": {
    "id": "eCYLfpRAby5u"
   },
   "source": [
    "<div dir=\"rtl\" align= \"justify\" >\n",
    "<font face=\"Vazir\" size=4 color=\"blue\">\n",
    "    پاسخ خود را در این قسمت بنویسید.\n",
    "</font>\n",
    "</div>"
   ]
  },
  {
   "cell_type": "markdown",
   "metadata": {
    "id": "hpfd0Lxuby5u"
   },
   "source": [
    "<div dir=\"rtl\">\n",
    "<font face=\"Vazir\" size=4>\n",
    "<h1>بخش دوم</h1>\n",
    "</font>\n",
    "</div>"
   ]
  },
  {
   "cell_type": "markdown",
   "metadata": {
    "id": "XWrDuxYxby5u"
   },
   "source": [
    "<div dir=\"rtl\">\n",
    "<font face=\"Vazir\" size=4>\n",
    "<h2>مقدمه</h2>\n",
    "</font>\n",
    "</div>"
   ]
  },
  {
   "cell_type": "markdown",
   "metadata": {
    "id": "VqTJDxCuby5v"
   },
   "source": [
    "<div dir=\"rtl\" align=\"justify\">\n",
    "<font face=\"Vazir\" size=4>\n",
    "می‌توان گفت که اکثر دیتاست‌های واقعی موجود در بحث طبقه‌بندی، به‌صورت خطی جداناپذیر می‌باشند. در بخش قبلی پروژه الگوریتمی معرفی شد که صرفاً بر روی‌داده‌های خطی جدا پذیر قابلیت جداسازی و تفکیک داده‌ها را داشت. در قسمت بعد ناتوانی این الگوریتم در مواجهه با داده‌های خطی جدایی‌ناپذیر را مشاهده خواهید کرد. پس‌ازآن با راه‌حل‌هایی که می‌توان این مشکل را رفع کرد، آشنا می‌شویم و راه‌حل بهینه یعنی توابع کرنل، معرفی می‌شود. درنهایت نیز با تعدادی از ویژگی‌ها و خواص این توابع آشنا می‌شوید و مثال‌هایی از این توابع مشاهده می‌کنید.\n",
    "</font>\n",
    "</div>"
   ]
  },
  {
   "cell_type": "markdown",
   "metadata": {
    "id": "RfwtVG5cby5v"
   },
   "source": [
    "<div dir=\"rtl\">\n",
    "<font face=\"Vazir\" size=4>\n",
    "<h2>معرفی و آماده‌سازی دیتاست \n",
    "<a href='https://www.kaggle.com/c/titanic/data'>تایتانیک</a></h2>\n",
    "</font>\n",
    "</div>"
   ]
  },
  {
   "cell_type": "markdown",
   "metadata": {
    "id": "NfGXsr_Kby5v"
   },
   "source": [
    "<div dir=\"rtl\" align=\"justify\">\n",
    "<font face=\"Vazir\" size=4>\n",
    "احتمالاً شما ماجرای کشتی تایتانیک و غرق شدن آن در اقیانوس اطلس را شنیده‌اید. در این قسمت، از داده‌ها و اطلاعات مسافران این کشتی که در دیتاست titanic موجود می‌باشد استفاده می‌کنیم و آن‌ها را برای مراحل بعدی، آماده می‌کنیم. این دیتاست اطلاعات 890 مسافر کشتی تایتانیک را به همراه ویژگی‌هایی مانند سن، جنسیت، نام و ... و از همه مهم‌تر وضعیت نجات یافتن فرد شامل می‌شود. در این دیتاست، برچسب هر داده را، وضعیت نجات یافتن فرد در نظر می‌گیریم.\n",
    "</font>\n",
    "</div>"
   ]
  },
  {
   "cell_type": "markdown",
   "metadata": {
    "id": "wqOhdQLTby5v"
   },
   "source": [
    "<div dir=\"rtl\">\n",
    "<font face=\"Vazir\" size=4>\n",
    "<h3>آماده‌سازی دیتاست </h3>\n",
    "</font>\n",
    "</div>"
   ]
  },
  {
   "cell_type": "markdown",
   "metadata": {
    "id": "JOrm6yfcby5w"
   },
   "source": [
    "<div dir=\"rtl\" align=\"justify\">\n",
    "<font face=\"Vazir\" size=4>\n",
    "\tبرای این بخش از پروژه، صرفاً برخی از ستون‌های مهم این دیتاست لازم می‌باشد. برای آماده‌سازی دیتاست، مراحل زیر را انجام می‌دهیم.\n",
    "<ul>\n",
    "  <li>حذف ستون‌هایی که اطلاعات خاصی در رابطه با وضعیت نجات یافتن فرد ندارند.\n",
    "</li>\n",
    "  <li>تبدیل ستون‌های categorical به ستون‌های عددی (در صورتی که ستون در مرحله قبل انتخاب شده باشد)\n",
    "</li>\n",
    "  <li>چک کردن وجود داده نامعتبر (NaN) و جایگزینی آن با مقدار مناسب\n",
    "</li>\n",
    "  <li>تقسیم دیتاست به داده‌های X و Y (Y، برچسب‌های داده و X هر ستون غیر از برچسب می‌باشد)\n",
    "</li>\n",
    "</ul>\n",
    "</font>\n",
    "</div>"
   ]
  },
  {
   "cell_type": "code",
   "execution_count": null,
   "metadata": {
    "id": "zL-BvLADby5w"
   },
   "outputs": [],
   "source": [
    "titanic_df = pd.read_csv('dataset/titanic.csv')\n",
    "titanic_df.drop(columns=['Unnamed: 0'], inplace=True)\n",
    "X = titanic_df.drop(columns=['Survived'])\n",
    "Y = titanic_df['Survived']\n",
    "X = X[['Pclass', 'Sex', 'Age', 'SibSp', 'Parch', 'Fare']]\n",
    "X['Sex'] = X['Sex'].map({'male':1, 'female':2})\n",
    "X['Age'] = X['Age'].fillna(X['Age'].mean())\n",
    "Y = Y.map({False:-1, True:1})"
   ]
  },
  {
   "cell_type": "markdown",
   "metadata": {
    "id": "poZWzb_Uby5w"
   },
   "source": [
    "<div dir=\"rtl\">\n",
    "<font face=\"Vazir\" size=4>\n",
    "<h3>تقسیم داده به قسمت‌های test  و train</h3>\n",
    "</font>\n",
    "</div>"
   ]
  },
  {
   "cell_type": "code",
   "execution_count": null,
   "metadata": {
    "id": "83SoBPtiby5x"
   },
   "outputs": [],
   "source": [
    "X_train, X_test, Y_train, Y_test = train_test_split(X, Y, random_state=22)\n",
    "X_train = np.matrix(X_train.to_numpy())\n",
    "X_test = np.matrix(X_test.to_numpy())\n",
    "Y_train = np.matrix(Y_train.to_numpy()).T\n",
    "Y_test = np.matrix(Y_test.to_numpy()).T"
   ]
  },
  {
   "cell_type": "markdown",
   "metadata": {
    "id": "Sh7CgHzvby5x"
   },
   "source": [
    "<div dir=\"rtl\">\n",
    "<font face=\"Vazir\" size=4>\n",
    "<h2>استفاده از الگوریتم معرفی‌شده در بخش 1 و تست آن بر روی داده‌های تست و آموزش *</h2>\n",
    "</font>\n",
    "</div>"
   ]
  },
  {
   "cell_type": "markdown",
   "metadata": {
    "id": "bKVSXurmby5x"
   },
   "source": [
    "<div dir=\"rtl\" align=\"justify\">\n",
    "<font face=\"Vazir\" size=4>\n",
    "اکنون الگوریتمی را که در بخش اول پروژه زده‌اید را با استفاده از این دیتاست دوباره آموزش دهید و دقت الگوریتم را بر روی داده تست و آموزش بسنجید (با استفاده از تابع method_1_accuracy) و به سؤالات زیر پاسخ دهید. <br>\n",
    "    همچنین مانند قسمت 5، چندین بار الگوریتم را آموزش دهید. \n",
    "    <ul> \n",
    "        <li>از دقت الگوریتم بر روی داده آموزش و تست، چه نتیجه‌ای می‌گیرید؟</li>\n",
    "        <li>آیا تکرار مرحله یادگیری، تاثیری بر روی دقت مدل بر داده‌های تست دارد؟</li> \n",
    "        <li>در صورتی دقت مدل شما، هم بر روی داده تست و هم بر روی داده آموزش، پایین بود، به نظرتان چه چیزی باعث این موضوع شده است؟</li> \n",
    "        <li>آیا راه‌حلی برای این موضوع به ذهنتان می‌رسد؟</li> \n",
    "    </ul>\n",
    "</font>\n",
    "</div>"
   ]
  },
  {
   "cell_type": "code",
   "execution_count": null,
   "metadata": {
    "id": "-K4mJzLLby5y"
   },
   "outputs": [],
   "source": [
    "# todo"
   ]
  },
  {
   "cell_type": "markdown",
   "metadata": {
    "id": "VIZo3nKXby5y"
   },
   "source": [
    "<div dir=\"rtl\" align= \"justify\" >\n",
    "<font face=\"Vazir\" size=4 color=\"blue\">\n",
    "    پاسخ خود را در این قسمت بنویسید.\n",
    "</font>\n",
    "</div>"
   ]
  },
  {
   "cell_type": "markdown",
   "metadata": {
    "id": "Bo52CKx4by5z"
   },
   "source": [
    "<div dir=\"rtl\">\n",
    "<font face=\"Vazir\" size=4>\n",
    "<h2>مثال</h2>\n",
    "</font>\n",
    "</div>"
   ]
  },
  {
   "cell_type": "markdown",
   "metadata": {
    "id": "8_GJ2A6Hby5z"
   },
   "source": [
    "<p align=\"center\">\n",
    "   <img src=\"figures/Linear_non_Seprable.png\"  width=\"500\"/>\n",
    "</p>"
   ]
  },
  {
   "cell_type": "markdown",
   "metadata": {
    "id": "A9RXbDNrby5z"
   },
   "source": [
    "<div dir=\"rtl\" align=\"justify\">\n",
    "<font face=\"Vazir\" size=4>\n",
    "نمودار بالا نشان‌دهنده یک سری داده دو بعدی با برچسب‌های قرمز و آبی می‌باشد. همان‌گونه که مشاهده می‌کنید، این داده‌ها را نمی‌توان صرفاً با یک خط در فضای دوبعدی جداسازی کرد. البته می‌توان با یک منحنی پیچیده‌تری (مانند یک دایره) این جداسازی را در فضای دوبعدی انجام داد اما با توجه به این که معادله یک منحنی مانند دایره، پیچیده‌تر از معادله یک خط می‌باشد، در نتیجه هزینه محاسباتی بیشتری را متحمل می‌شویم. زیرا پیدا کردن ضرایب مناسب برای منحنی موردنظر، از نظر محاسباتی، هزینه‌بر و زمان‌بر است. <br>\n",
    "روش‌های دیگری نیز برای پیدا کردن خط جداساز وجود دارد. پایه و اساس یکی از این روش‌ها، این است که داده‌های موجود را به یک فضای برداری دیگری ببریم که داده‌ها در آن از هم خطی‌جداپذیر می‌باشند. اما این روش نیز از نظر محاسباتی مشکلاتی دارد. به عبارت دیگر می‌توان داده‌ها را از فضای نگاشت اصلی به فضایی با بعد بالاتر (یا با همان بعد) منتقل کرد و در صورتی که جداسازی خطی در فضای جدید ممکن بود، این جداسازی را انجام داد و طبقه‌بند مورد نظر را بدست آورد. اما انجام محاسبات یافتن ابرفضا با بعد بالا، هزینه‌بر است و در اکثر مواقع، استفاده از این کار بهینه نیست. اما با استفاده از توابع کرنل، می ‌توان این مشکل را برطرف کرد. \n",
    "</font>\n",
    "</div>"
   ]
  },
  {
   "cell_type": "markdown",
   "metadata": {
    "id": "pexIDHmiby50"
   },
   "source": [
    "<div dir=\"rtl\">\n",
    "<font face=\"Vazir\" size=4>\n",
    "<h2>تعریف کرنل</h2>\n",
    "</font>\n",
    "</div>"
   ]
  },
  {
   "cell_type": "markdown",
   "metadata": {
    "id": "NGtjvLb8by51"
   },
   "source": [
    "<div dir=\"rtl\" align=\"justify\">\n",
    "<font face=\"Vazir\" size=4>\n",
    "    فرض کنید دو داده دوبعدی \n",
    "    $x = (x_1, x_2)$ و \n",
    "    $x' = (x'_1, x'_2)$ داریم و می خواهیم ابتدا با استفاده از تبدیل $\\phi(t) = [1, \\sqrt{2}t_1, \\sqrt{2}t_2, t_1^2, t_2^2, \\sqrt{t_1 t_2}]$، هر دو داده را به فضای \n",
    "    $R^6$ برده و سپس ضرب داخلی این دو بردار را در فضای \n",
    "    $R^6$ به دست آوریم. داریم: <br> \n",
    "    $$\\phi(x) = [1, \\sqrt{2}x_1, \\sqrt{2}x_2, x_1^2, x_2^2, \\sqrt{x_1 x_2}]$$ \n",
    "    $$\\phi(x^\\prime) = [1, \\sqrt{2} x^{\\prime}_1, \\sqrt{2}x^{\\prime}_2, {x^{\\prime}}_{1}^2, {x^{\\prime}}_{2}^2, \\sqrt{x^{\\prime}_{1} x^{\\prime}_{2}}]$$ \n",
    "    <br>\n",
    "    با ضرب داخلی این دو بردار به عبارت زیر خواهیم رسید:\n",
    "    $$\n",
    "1+2 x_{1} x_{1}^{\\prime}+2 x_{2} x_{2}^{\\prime}+x_{1}^{2} x_{1}^{\\prime 2}+x_{2}^{2} x_{2}^{\\prime 2}+2 x_{1} x_{1}^{\\prime} x_{2} x_{2}^{\\prime}\n",
    "$$\n",
    "    <br>\n",
    "    با اندکی ساده سازی عبارت بالا، می توانیم به عبارت ساده شده زیر برسیم:\n",
    "    $$ (1 + x_{1} x_{1}^{\\prime} + x_{2} x_{2}^{\\prime}) ^ 2 $$\n",
    "    که معادل عبارت \n",
    "    $(1 + x^{T} x^{\\prime})^2$\n",
    "    می‌باشد. \n",
    "    <br>\n",
    "    یعنی از همان ابتدا و بدون تبدیل داده ها می توانستیم داده های x و x' را به طور مستقیم حاصلضرب داخلی این دو بردار در فضای بالاتری را بدست آوریم. به این روش، متد kernel گفته می شود. kernel method  یا kernel trick کاربردهای زیادی در هوش مصنوعی و یادگیری ماشین دارد و به طور کلی باعث بهبود عملکرد مدل یادگیری ماشین می شود. البته انتخاب کرنل مناسب لازمه این بهبود عملکرد می باشد. <br>\n",
    "برای مطالعه بیشتر، می‌توانید از لینک‌های زیر استفاده نمایید:\n",
    "\n",
    "<a href='https://en.wikipedia.org/wiki/Kernel_method'>Kernel Methods-Wiki</a> <br>\n",
    "<a href='https://towardsdatascience.com/kernel-function-6f1d2be6091'>Kernel Methods-A mediem article</a> <br>\n",
    "<a href='https://www.youtube.com/watch?v=XUj5JbQihlU'>Kernel Methods Lecture-Caltech's Machine Learning Course-CS156</a> <br>\n",
    "<a href='https://stats.stackexchange.com/questions/152897/how-to-intuitively-explain-what-a-kernel-is'>?How to intuitively explain what a kernel is\n",
    "</a>\n",
    "\n",
    "    \n",
    "</font>\n",
    "</div>"
   ]
  },
  {
   "cell_type": "markdown",
   "metadata": {
    "id": "zln7076oby52"
   },
   "source": [
    "\n",
    "<div dir=\"rtl\">\n",
    "<font face=\"Vazir\" size=4>\n",
    "<h2> اجرای کرنل *</h2>\n",
    "</font>\n",
    "</div><div dir=\"rtl\">\n",
    "<font face=\"Vazir\" size=4>\n",
    "</font>\n",
    "</div>"
   ]
  },
  {
   "cell_type": "markdown",
   "metadata": {
    "id": "VyWlcqlNby52"
   },
   "source": [
    "<div dir=\"rtl\" align=\"justify\">\n",
    "<font face=\"Vazir\" size=4>\n",
    "در این قسمت با جایگزین کردن یک تابع کرنل به جای ضرب داخلی، سعی می کنیم دقت روش را افزایش دهیم. مانند بخش قبل توابع زیر را کامل کرده و با استفاده از آن‌ها، دقت این روش را با روش اصلی در دیتاست تایتانیک مقایسه کنید.\n",
    "<li>راهنمایی: </li>\n",
    "در مورد کرنل گاوسی و روش استفاده از آن در perceptron تحقیق کنید، سپس با تکمیل توابع زیر، نتیجه‌ی این روش را با حالت بدون کرنل مقایسه کنید.\n",
    "</font>\n",
    "</div>"
   ]
  },
  {
   "cell_type": "code",
   "execution_count": null,
   "metadata": {
    "id": "HdPXyKSEby52"
   },
   "outputs": [],
   "source": [
    "def method_2_predict(w, X_train, X, sigma):  # returns 1 or -1 based on X and X_train\n",
    "    pdists = cdist(X_train, X)\n",
    "    # todo\n",
    "\n",
    "def method_2_train(w0, X_train, Y_train, T, sigma):   # train model with X_train, Y_train and w0\n",
    "    #todo"
   ]
  },
  {
   "cell_type": "code",
   "execution_count": null,
   "metadata": {
    "id": "-t5jUv34by53"
   },
   "outputs": [],
   "source": [
    "def method_2_accuracy(X_train, X_test, Y_test, w, sigma):   # X is n*d matrix, Y is n*1 vector, w is d*1 vector\n",
    "    #todo"
   ]
  },
  {
   "cell_type": "code",
   "execution_count": 1,
   "metadata": {
    "id": "UAnGZruqby53",
    "outputId": "7fd0cc7d-909f-4b64-f85a-7b5fd0cbdbe1"
   },
   "outputs": [],
   "source": [
    "T = 10\n",
    "sigma = 0.65\n",
    "\n",
    "n, d = np.shape(X_train)\n",
    "w0 = np.zeros(n)\n",
    "\n",
    "w = method_2_train(w0, X_train, Y_train, T, sigma)\n",
    "print(\"Train accuracy: \" + str(method_2_accuracy(X_train, X_train, Y_train, w, sigma)))\n",
    "print(\"Test accuracy: \" + str(method_2_accuracy(X_train, X_test, Y_test, w, sigma)))"
   ]
  },
  {
   "cell_type": "markdown",
   "metadata": {
    "id": "69KZlh4gby53"
   },
   "source": [
    "<div dir=\"rtl\" align=\"justify\">\n",
    "<font face=\"Vazir\" size=4>\n",
    "    <ul> \n",
    "        <li>دلیل افزایش دقت در این قسمت چیست؟</li>\n",
    "        <li>آیا تکرار مرحله یادگیری، تاثیری بر روی دقت مدل بر داده‌های تست دارد؟</li> \n",
    "        <li>در صورتی دقت مدل شما، هم بر روی داده تست و هم بر روی داده آموزش، پایین بود، به نظرتان چه چیزی باعث این موضوع شده است؟</li> \n",
    "        <li>آیا راه‌حلی برای این موضوع به ذهنتان می‌رسد؟</li> \n",
    "    </ul>\n",
    "</font>\n",
    "</div>"
   ]
  },
  {
   "cell_type": "markdown",
   "metadata": {
    "id": "3qZ8RfQiby53"
   },
   "source": [
    "<div dir=\"rtl\" align= \"justify\" >\n",
    "<font face=\"Vazir\" size=4 color=\"blue\">\n",
    "    پاسخ خود را در این قسمت بنویسید.\n",
    "</font>\n",
    "</div>"
   ]
  }
 ],
 "metadata": {
  "colab": {
   "collapsed_sections": [],
   "name": "Main.ipynb",
   "provenance": []
  },
  "kernelspec": {
   "display_name": "Python 3",
   "language": "python",
   "name": "python3"
  },
  "language_info": {
   "codemirror_mode": {
    "name": "ipython",
    "version": 3
   },
   "file_extension": ".py",
   "mimetype": "text/x-python",
   "name": "python",
   "nbconvert_exporter": "python",
   "pygments_lexer": "ipython3",
   "version": "3.8.10"
  }
 },
 "nbformat": 4,
 "nbformat_minor": 4
}
